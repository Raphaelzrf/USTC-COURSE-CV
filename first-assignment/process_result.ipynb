{
 "cells": [
  {
   "cell_type": "code",
   "execution_count": null,
   "id": "ca9d4fef",
   "metadata": {},
   "outputs": [],
   "source": [
    "# define the hyperparameters\n",
    "num_of_hidden_layer_test = NumOfHiddenLayer.THREE\n",
    "# hidden_sizes_test = [32, 32, 32]\n",
    "hidden_sizes_test = [64, 64, 64]\n",
    "# hidden_sizes_test = [128, 128, 128]\n",
    "learning_rate_scheduler_test = LearningRateScheduler.FIXED\n",
    "activation_function_test = ActivationFunction.ReLU\n",
    "optimizer_test = Optimizer.Adam\n",
    "batch_normalization_test = BatchNormalization.True_\n",
    "regularization_test = Regularization.L1\n",
    "llambda_test = 1e-5\n",
    "dropout_test = [0.25, 0.25, 0.0]\n",
    "batch_size_test = 128\n",
    "num_epochs_test = 200\n",
    "lr_test = 0.1"
   ]
  }
 ],
 "metadata": {
  "kernelspec": {
   "display_name": "base",
   "language": "python",
   "name": "python3"
  },
  "language_info": {
   "name": "python",
   "version": "3.12.4"
  }
 },
 "nbformat": 4,
 "nbformat_minor": 5
}
